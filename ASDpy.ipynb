{
  "nbformat": 4,
  "nbformat_minor": 0,
  "metadata": {
    "colab": {
      "name": "ASDpy.ipynb",
      "provenance": [],
      "authorship_tag": "ABX9TyO4WkLcMAnhczLOMbVcO/jm",
      "include_colab_link": true
    },
    "kernelspec": {
      "name": "python3",
      "display_name": "Python 3"
    },
    "language_info": {
      "name": "python"
    }
  },
  "cells": [
    {
      "cell_type": "markdown",
      "metadata": {
        "id": "view-in-github",
        "colab_type": "text"
      },
      "source": [
        "<a href=\"https://colab.research.google.com/github/a-garnier/ASDpy/blob/antoine/ASDpy.ipynb\" target=\"_parent\"><img src=\"https://colab.research.google.com/assets/colab-badge.svg\" alt=\"Open In Colab\"/></a>"
      ]
    },
    {
      "cell_type": "code",
      "metadata": {
        "id": "vaebRlQwol0U"
      },
      "source": [
        "# Author : Antoine\n",
        "# First try of classification with KNN\n",
        "# use only fan data, use normal and anomalous data for training\n",
        "import pandas as pd\n",
        "import numpy as np\n",
        "import matplotlib.pyplot as plt # Pour l'affichage d'images\n",
        "\n",
        "from joblib import dump, load\n",
        "\n",
        "from sklearn import neighbors\n",
        "from sklearn.model_selection import train_test_split"
      ],
      "execution_count": 6,
      "outputs": []
    },
    {
      "cell_type": "code",
      "metadata": {
        "colab": {
          "base_uri": "https://localhost:8080/"
        },
        "id": "Vvo0Xhn6nj68",
        "outputId": "8c06e02d-ad86-4592-a90b-268a093720f3"
      },
      "source": [
        "from google.colab import drive\n",
        "drive.mount('/drive')"
      ],
      "execution_count": 3,
      "outputs": [
        {
          "output_type": "stream",
          "text": [
            "Drive already mounted at /drive; to attempt to forcibly remount, call drive.mount(\"/drive\", force_remount=True).\n"
          ],
          "name": "stdout"
        }
      ]
    },
    {
      "cell_type": "code",
      "metadata": {
        "id": "5im202ZHt3r7"
      },
      "source": [
        "machines = [            # TEST DATA SIZE\n",
        "    'fan',              # (1875, 40065)\n",
        "    'pump',             # (856, 40065)\n",
        "    'slider',           # (1290, 40065)\n",
        "#    'ToyCar',           # (2459, 44033)\n",
        "    'ToyConveyor',      # (3509, 40065)\n",
        "    'valve'             # (879, 40065)\n",
        "]\n",
        "\n",
        "#machines = ['verif_1', 'verif_2']\n",
        "\n",
        "sets = ['train', 'test']"
      ],
      "execution_count": 66,
      "outputs": []
    },
    {
      "cell_type": "code",
      "metadata": {
        "id": "w76n92W68NCy",
        "colab": {
          "base_uri": "https://localhost:8080/"
        },
        "outputId": "f7b344b6-6232-415f-91f1-15c98ea62c96"
      },
      "source": [
        "id_machine = 0\n",
        "#global_array = []\n",
        "global_array = np.empty([0, height+1])\n",
        "\n",
        "for machine in machines:\n",
        "\n",
        "    # identifiant de la machine\n",
        "    id_machine = id_machine + 1\n",
        "\n",
        "    print(machine)\n",
        "    s = 'train'\n",
        "\n",
        "    # example : '../data/fan/train_png/'\n",
        "    # working_directory = '../../data/'+machine+'/'\n",
        "    working_directory = '/drive/MyDrive/asdpy/data/'\n",
        "\n",
        "    #df = load(working_directory + 'df_fan_train.joblib')\n",
        "    data_array = load(working_directory + 'df_'+machine+'_test.joblib')\n",
        "    #print(\"TRAINING DATAFRAME : \")\n",
        "\n",
        "    # numpy ndarray\n",
        "    # dernière colonne = type de donnée, normal ou anomalie\n",
        "    #print(type(data_array))\n",
        "    print(data_array.shape)\n",
        "\n",
        "    loop_array = np.empty([0, height+1])\n",
        "\n",
        "    # boucle sur chaque ligne (correspond à une image)\n",
        "    for i in range(data_array.shape[0]):\n",
        "        # boucle de à 0 à 1874\n",
        "        img = data_array[i]\n",
        "        type = img[-1]\n",
        "        #print(\"type : \", type)\n",
        "        pixels = img.shape[0] - 1\n",
        "\n",
        "\n",
        "        height = 128\n",
        "        width = int(pixels/height)\n",
        "        #print(\"width :\", width)\n",
        "\n",
        "        #print(lines)\n",
        "        lines = img[0:-1].reshape(height,width).T\n",
        "\n",
        "        #print(lines)\n",
        "        #print(lines.shape)\n",
        "        #print(\"=============\")\n",
        "    \n",
        "        # vecteur aussi long que le nombre de lignes verticales\n",
        "        id_machine_col = np.ones((width,1), dtype=np.int16)*id_machine\n",
        "        lines = np.append(lines, id_machine_col, axis=1)\n",
        "\n",
        "        #lines = np.append(lines, id_machine_col, axis=1)\n",
        "\n",
        "        #print(\"lines.shape 2 :\", lines.shape)\n",
        "        #print(\"lines :\", lines)\n",
        " \n",
        "        loop_array = np.append(loop_array, lines, axis=0)\n",
        "\n",
        "\n",
        "    # retire la dernière colonne du tableau\n",
        "    #data_array = data_array[:-1]\n",
        "    \n",
        "\n",
        "    global_array = np.append(global_array, loop_array, axis=0)\n",
        "\n",
        "    # print('===========')\n",
        "\n",
        "    print(\"global_array.shape 2 :\", global_array.shape)\n",
        "    print('===============')\n",
        "\n",
        "\n",
        "    #print(data_array)"
      ],
      "execution_count": 69,
      "outputs": [
        {
          "output_type": "stream",
          "text": [
            "fan\n",
            "(1875, 40065)\n",
            "global_array.shape 2 : (586875, 129)\n",
            "===============\n",
            "pump\n",
            "(856, 40065)\n",
            "global_array.shape 2 : (854803, 129)\n",
            "===============\n",
            "slider\n",
            "(1290, 40065)\n",
            "global_array.shape 2 : (1258573, 129)\n",
            "===============\n",
            "ToyConveyor\n",
            "(3509, 40065)\n",
            "global_array.shape 2 : (2356890, 129)\n",
            "===============\n",
            "valve\n",
            "(879, 40065)\n",
            "global_array.shape 2 : (2632017, 129)\n",
            "===============\n"
          ],
          "name": "stdout"
        }
      ]
    },
    {
      "cell_type": "code",
      "metadata": {
        "colab": {
          "base_uri": "https://localhost:8080/"
        },
        "id": "p8yzLNo3t8lm",
        "outputId": "64c73fa3-cad5-42f6-f57c-cde5f272bd28"
      },
      "source": [
        "print('global_array.shape : ')\n",
        "print(global_array.shape)\n",
        "# (8409, 40065)\n",
        "# (2632017, 129)"
      ],
      "execution_count": 70,
      "outputs": [
        {
          "output_type": "stream",
          "text": [
            "global_array.shape : \n",
            "(2632017, 129)\n"
          ],
          "name": "stdout"
        }
      ]
    },
    {
      "cell_type": "code",
      "metadata": {
        "colab": {
          "base_uri": "https://localhost:8080/"
        },
        "id": "PLUI0oS3I--a",
        "outputId": "b372b17e-b725-4303-80e4-9747ad8c4d84"
      },
      "source": [
        "print(global_array)"
      ],
      "execution_count": 50,
      "outputs": [
        {
          "output_type": "stream",
          "text": [
            "[[0.         0.         0.         ... 1.         1.         1.        ]\n",
            " [1.         1.         1.         ... 1.         1.         1.        ]\n",
            " [1.         1.         1.         ... 0.49803922 0.49803922 1.        ]\n",
            " ...\n",
            " [1.         1.         1.         ... 0.49803922 0.49803922 2.        ]\n",
            " [0.49803922 0.49803922 0.49803922 ... 1.         1.         2.        ]\n",
            " [1.         1.         1.         ... 1.         1.         2.        ]]\n"
          ],
          "name": "stdout"
        }
      ]
    },
    {
      "cell_type": "code",
      "metadata": {
        "colab": {
          "base_uri": "https://localhost:8080/"
        },
        "id": "q3smwI8tuSCd",
        "outputId": "dab14f6f-d20f-43a9-8699-2353759c526c"
      },
      "source": [
        "\n",
        "# exit()\n",
        "\n",
        "\n",
        "\n",
        "# charger les données entrainement pour toutes les machines\n",
        "# pour chaque spectrogramme représentant un son normal\n",
        "# transformer chaque ligne verticale en un vecteur, et le compléter par l'ID de la machine\n",
        "# stocker ces vecteurs dans une matrice générale\n",
        "# entrainer un classifieur qui va calculer la probabilité d'appartenance à chaque classe\n",
        "\n",
        "# faire la meme chose avec les données de validation\n",
        "# si les données correspondent à un défaut, prendre l'oppsé de la valeur\n",
        "# calculer les proba d'appartenance de chaque son en faisant des batchs par spectrogramme\n",
        "# spectrogrammes OK : quels résultats / proportion de bons classements\n",
        "# spectrogrammes défaut : quel résultat / proportion de bons classements\n",
        "\n",
        "print(\"CREATE TRAINING DATAFRAME...\")\n",
        "# part 1 : create dataframe from fragments\n",
        "# need to be run on time\n",
        "# data_part_1 = load(working_directory+'df_fan_train.joblib')\n",
        "# data_part_2 = load(working_directory+'df_fan_test.joblib')\n",
        "\n",
        "# data_part_1 : <class 'numpy.ndarray'> (3675, 40065)\n",
        "# data_part_2 : <class 'numpy.ndarray'> (1875, 40065)\n",
        "\n",
        "# concaténation des deux ndarray sur l'axe vertical\n",
        "# data = np.concatenate([data_part_1, data_part_2], axis=0)\n",
        "\n",
        "# data : <class 'numpy.ndarray'> (5550, 40065)\n",
        "\n",
        "# réduit la dimension de l'array pour les tests\n",
        "np.random.shuffle(global_array)\n",
        "data = global_array[0:1000*1000,:]\n",
        "#\n",
        "# df = pd.DataFrame(data)\n",
        "#\n",
        "# print(\"SAVE DATAS...\")\n",
        "# dump(data, working_directory+'data.joblib', compress=True)\n",
        "# dump(df, working_directory+'df.joblib', compress=True)\n",
        "\n",
        "# df = load(working_directory+'df.joblib')\n",
        "# print(\"TRAINING DATAFRAME : \")\n",
        "# print(type(df))\n",
        "# print(df.shape)\n",
        "# (500, 40065)\n",
        "# 40065, besoin impératif de réduire la dimension...\n",
        "\n",
        "df = pd.DataFrame(data)\n",
        "\n",
        "# séparation des données de la cible\n",
        "data = df.iloc[:,0:-1]\n",
        "target = df.iloc[:,-1:]\n",
        "\n",
        "print(\"SPLIT DATA...\")\n",
        "# séparation des données d'entrainement (70%) et de test (30%)\n",
        "X_train, X_test, y_train, y_test = train_test_split(data, target, test_size = 0.30, random_state=66)"
      ],
      "execution_count": 82,
      "outputs": [
        {
          "output_type": "stream",
          "text": [
            "CREATE TRAINING DATAFRAME...\n",
            "SPLIT DATA...\n"
          ],
          "name": "stdout"
        }
      ]
    },
    {
      "cell_type": "code",
      "metadata": {
        "colab": {
          "base_uri": "https://localhost:8080/"
        },
        "id": "VmPHJ-3Ww4Kw",
        "outputId": "855386b5-a3d8-4177-ede9-436bf36d2442"
      },
      "source": [
        "\n",
        "\n",
        "import numpy as np # Pour la manipulation de tableaux\n",
        "\n",
        "import pandas as pd # Pour manipuler des DataFrames pandas\n",
        "\n",
        "from matplotlib import cm # Pour importer de nouvelles cartes de couleur\n",
        "# %matplotlib inline\n",
        "\n",
        "from keras.models import Sequential # Pour construire un réseau de neurones\n",
        "from keras.layers import Dense # Pour instancier une couche dense\n",
        "from keras.utils import np_utils\n",
        "\n",
        "import itertools # Pour créer des iterateurs\n",
        "\n",
        "from sklearn import metrics # Pour évaluer les modèles\n",
        "\n",
        "y_train = np_utils.to_categorical(y_train, dtype = 'int')\n",
        "y_test = np_utils.to_categorical(y_test, dtype = 'int')\n",
        "\n",
        "print(\"y_test.shape\")\n",
        "print(y_test.shape)\n",
        "\n",
        "num_pixels = X_train.shape[1]\n",
        "num_classes = y_test.shape[1]\n",
        "\n",
        "print(\"num_classes : \", num_classes)"
      ],
      "execution_count": 83,
      "outputs": [
        {
          "output_type": "stream",
          "text": [
            "y_test.shape\n",
            "(300000, 6)\n",
            "num_classes :  6\n"
          ],
          "name": "stdout"
        }
      ]
    },
    {
      "cell_type": "code",
      "metadata": {
        "colab": {
          "base_uri": "https://localhost:8080/"
        },
        "id": "iUMbDtI3pQEW",
        "outputId": "1e980804-f522-4616-f0c3-242fac37ae8f"
      },
      "source": [
        "# Étape 1 : Instancier un modèle avec le constructeur Sequential\n",
        "model = Sequential()\n",
        "\n",
        "# Étape 2 : Instancier les couches qui composeront le modèle avec leur constructeur\n",
        "first_layer = Dense(units=20,                   # 20 neurones\n",
        "                    activation='tanh',          # fonction d'activation\n",
        "                    input_dim=num_pixels,       # dimension du vecteur d'entrée\n",
        "                    kernel_initializer=\"normal\" # vecteur de poids de cette couche initialisés aléatoirement selon la loi normale\n",
        "            )\n",
        "\n",
        "# Étape 3 : Ajouter les couches au modèle grâce\n",
        "second_layer = Dense(units=num_classes,          # nombre de neurones de sortie égal au nombre de classes\n",
        "                     activation='softmax',       # fonction d'activation\n",
        "                     #input_dim=20,               # dimension du vecteur d'entrée égale à la sortie de la couche précédente\n",
        "                     kernel_initializer=\"normal\" # vecteur de poids de cette couche initialisés aléatoirement selon la loi normale\n",
        "            )\n",
        "\n",
        "# Ajout des couches aux modèle\n",
        "model.add(first_layer)\n",
        "model.add(second_layer)\n",
        "\n",
        "model.compile(loss='categorical_crossentropy',  # fonction de perte\n",
        "              optimizer='adam',                 # algorithme d'optimisation\n",
        "              metrics=['accuracy'])             # métrique d'évaluation\n",
        "\n",
        "\n",
        "training_history = model.fit(X_train, y_train, epochs=20, batch_size=200, validation_split=0.2)\n",
        "\n",
        "train_acc = training_history.history['accuracy']\n",
        "val_acc = training_history.history['val_accuracy']\n",
        "\n"
      ],
      "execution_count": 84,
      "outputs": [
        {
          "output_type": "stream",
          "text": [
            "Epoch 1/20\n",
            "2800/2800 [==============================] - 7s 2ms/step - loss: 1.0020 - accuracy: 0.5900 - val_loss: 0.6527 - val_accuracy: 0.7192\n",
            "Epoch 2/20\n",
            "2800/2800 [==============================] - 7s 2ms/step - loss: 0.6241 - accuracy: 0.7391 - val_loss: 0.5611 - val_accuracy: 0.7723\n",
            "Epoch 3/20\n",
            "2800/2800 [==============================] - 6s 2ms/step - loss: 0.5549 - accuracy: 0.7747 - val_loss: 0.5398 - val_accuracy: 0.7803\n",
            "Epoch 4/20\n",
            "2800/2800 [==============================] - 6s 2ms/step - loss: 0.5394 - accuracy: 0.7815 - val_loss: 0.5293 - val_accuracy: 0.7842\n",
            "Epoch 5/20\n",
            "2800/2800 [==============================] - 6s 2ms/step - loss: 0.5287 - accuracy: 0.7853 - val_loss: 0.5227 - val_accuracy: 0.7885\n",
            "Epoch 6/20\n",
            "2800/2800 [==============================] - 6s 2ms/step - loss: 0.5198 - accuracy: 0.7895 - val_loss: 0.5152 - val_accuracy: 0.7907\n",
            "Epoch 7/20\n",
            "2800/2800 [==============================] - 6s 2ms/step - loss: 0.5119 - accuracy: 0.7928 - val_loss: 0.5113 - val_accuracy: 0.7910\n",
            "Epoch 8/20\n",
            "2800/2800 [==============================] - 6s 2ms/step - loss: 0.5083 - accuracy: 0.7947 - val_loss: 0.5041 - val_accuracy: 0.7958\n",
            "Epoch 9/20\n",
            "2800/2800 [==============================] - 6s 2ms/step - loss: 0.5037 - accuracy: 0.7963 - val_loss: 0.4974 - val_accuracy: 0.7982\n",
            "Epoch 10/20\n",
            "2800/2800 [==============================] - 6s 2ms/step - loss: 0.4976 - accuracy: 0.7993 - val_loss: 0.4951 - val_accuracy: 0.8007\n",
            "Epoch 11/20\n",
            "2800/2800 [==============================] - 6s 2ms/step - loss: 0.4955 - accuracy: 0.7998 - val_loss: 0.4884 - val_accuracy: 0.8031\n",
            "Epoch 12/20\n",
            "2800/2800 [==============================] - 6s 2ms/step - loss: 0.4907 - accuracy: 0.8015 - val_loss: 0.4952 - val_accuracy: 0.8009\n",
            "Epoch 13/20\n",
            "2800/2800 [==============================] - 7s 2ms/step - loss: 0.4859 - accuracy: 0.8043 - val_loss: 0.4865 - val_accuracy: 0.8045\n",
            "Epoch 14/20\n",
            "2800/2800 [==============================] - 6s 2ms/step - loss: 0.4826 - accuracy: 0.8050 - val_loss: 0.4795 - val_accuracy: 0.8070\n",
            "Epoch 15/20\n",
            "2800/2800 [==============================] - 6s 2ms/step - loss: 0.4787 - accuracy: 0.8070 - val_loss: 0.4823 - val_accuracy: 0.8071\n",
            "Epoch 16/20\n",
            "2800/2800 [==============================] - 6s 2ms/step - loss: 0.4774 - accuracy: 0.8070 - val_loss: 0.4724 - val_accuracy: 0.8093\n",
            "Epoch 17/20\n",
            "2800/2800 [==============================] - 6s 2ms/step - loss: 0.4740 - accuracy: 0.8089 - val_loss: 0.4756 - val_accuracy: 0.8087\n",
            "Epoch 18/20\n",
            "2800/2800 [==============================] - 6s 2ms/step - loss: 0.4713 - accuracy: 0.8090 - val_loss: 0.4705 - val_accuracy: 0.8115\n",
            "Epoch 19/20\n",
            "2800/2800 [==============================] - 5s 2ms/step - loss: 0.4680 - accuracy: 0.8102 - val_loss: 0.4723 - val_accuracy: 0.8078\n",
            "Epoch 20/20\n",
            "2800/2800 [==============================] - 6s 2ms/step - loss: 0.4659 - accuracy: 0.8117 - val_loss: 0.4667 - val_accuracy: 0.8116\n"
          ],
          "name": "stdout"
        }
      ]
    },
    {
      "cell_type": "code",
      "metadata": {
        "colab": {
          "base_uri": "https://localhost:8080/",
          "height": 279
        },
        "id": "0o_MapENxROv",
        "outputId": "aab71059-c37d-4116-bfe8-b6aa6881fe9a"
      },
      "source": [
        "plt.plot(np.arange(1 , 21, 1), train_acc, label=\"train_acc\")\n",
        "plt.plot(np.arange(1 , 21, 1), val_acc, label=\"val_acc\")\n",
        "\n",
        "plt.legend()\n",
        "plt.xlabel('Epochs')\n",
        "plt.ylabel('Accuracy')\n",
        "plt.show()"
      ],
      "execution_count": 85,
      "outputs": [
        {
          "output_type": "display_data",
          "data": {
            "image/png": "[encoded data removed]",
            "text/plain": [
              "<Figure size 432x288 with 1 Axes>"
            ]
          },
          "metadata": {
            "tags": [],
            "needs_background": "light"
          }
        }
      ]
    },
    {
      "cell_type": "code",
      "metadata": {
        "colab": {
          "base_uri": "https://localhost:8080/"
        },
        "id": "OHOJ4C9xxWQH",
        "outputId": "3d9a534a-ce76-4728-9cf0-db78c7ba2fe5"
      },
      "source": [
        "# prédiction des données\n",
        "test_pred = model.predict(X_test)\n",
        "\n",
        "# score du modèle\n",
        "score = model.evaluate(X_test, y_test)\n",
        "print(score)\n",
        "\n",
        "# Prediction de l'échantillon de test\n",
        "test_pred = model.predict(X_test)\n",
        "\n",
        "test_pred_class = np.argmax(test_pred, axis=1)\n",
        "y_test_class = np.argmax(y_test, axis=1)\n",
        "\n",
        "print(\"Performances du modele :\")\n",
        "print(metrics.classification_report(y_test_class, test_pred_class))"
      ],
      "execution_count": 86,
      "outputs": [
        {
          "output_type": "stream",
          "text": [
            "9375/9375 [==============================] - 14s 2ms/step - loss: 0.4652 - accuracy: 0.8128\n",
            "[0.4651585519313812, 0.8127666711807251]\n",
            "Performances du modele :\n",
            "              precision    recall  f1-score   support\n",
            "\n",
            "           1       0.67      0.88      0.76     66970\n",
            "           2       0.67      0.66      0.67     30517\n",
            "           3       0.81      0.58      0.67     45902\n",
            "           4       1.00      1.00      1.00    124986\n",
            "           5       0.55      0.42      0.48     31625\n",
            "\n",
            "    accuracy                           0.81    300000\n",
            "   macro avg       0.74      0.71      0.72    300000\n",
            "weighted avg       0.82      0.81      0.81    300000\n",
            "\n"
          ],
          "name": "stdout"
        }
      ]
    },
    {
      "cell_type": "code",
      "metadata": {
        "colab": {
          "base_uri": "https://localhost:8080/",
          "height": 296
        },
        "id": "ECXUJKPC7z3B",
        "outputId": "502b44b3-8af2-4906-e62a-e97cf716386f"
      },
      "source": [
        "# affiche la matrice de confusion sous forme de tableau coloré\n",
        "classes = range(0,6)\n",
        "\n",
        "plt.figure()\n",
        "\n",
        "# matrice de confusion\n",
        "cnf_matrix = metrics.confusion_matrix(y_test_class, test_pred_class)\n",
        "\n",
        "plt.imshow(cnf_matrix, interpolation='nearest',cmap='Blues')\n",
        "plt.title(\"Matrice de confusion\")\n",
        "plt.colorbar()\n",
        "tick_marks = np.arange(len(classes))\n",
        "plt.xticks(tick_marks, classes)\n",
        "plt.yticks(tick_marks, classes)\n",
        "\n",
        "# texte et couleur\n",
        "for i, j in itertools.product(range(cnf_matrix.shape[0]), range(cnf_matrix.shape[1])):\n",
        "    plt.text(j, i, cnf_matrix[i, j],\n",
        "             horizontalalignment = \"center\",\n",
        "             color = \"white\" if cnf_matrix[i, j] > ( cnf_matrix.max() / 2) else \"black\")\n",
        "\n",
        "plt.ylabel('Vrais labels')\n",
        "plt.xlabel('Labels prédits')\n",
        "plt.show()\n",
        "\n"
      ],
      "execution_count": 87,
      "outputs": [
        {
          "output_type": "display_data",
          "data": {
            "image/png": "[encoded data removed]",
            "text/plain": [
              "<Figure size 432x288 with 2 Axes>"
            ]
          },
          "metadata": {
            "tags": [],
            "needs_background": "light"
          }
        }
      ]
    },
    {
      "cell_type": "code",
      "metadata": {
        "id": "jvA5Tien8Kjg"
      },
      "source": [
        ""
      ],
      "execution_count": null,
      "outputs": []
    }
  ]
}